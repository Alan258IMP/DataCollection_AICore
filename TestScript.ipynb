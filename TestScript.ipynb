{
 "cells": [
  {
   "cell_type": "code",
   "execution_count": 9,
   "metadata": {},
   "outputs": [],
   "source": [
    "#Import everything\n",
    "from http import cookies\n",
    "import selenium\n",
    "from selenium import webdriver\n",
    "from selenium.common.exceptions import TimeoutException\n",
    "from selenium.webdriver.support.ui import WebDriverWait\n",
    "from selenium.webdriver.common.by import By\n",
    "import time\n",
    "import json\n",
    "import urllib\n",
    "import requests\n",
    "import os\n",
    "\n",
    "def click_element(xpath: str):\n",
    "    try:\n",
    "        button = self.driver.find_element(By.XPATH, xpath)\n",
    "        button.click()\n",
    "    except TimeoutException:\n",
    "        print(\"TimeoutException: Button not found\")"
   ]
  },
  {
   "cell_type": "code",
   "execution_count": 10,
   "metadata": {},
   "outputs": [],
   "source": [
    "# Open the website\n",
    "driver = webdriver.Chrome()\n",
    "driver.get('https://vndb.org/v')"
   ]
  },
  {
   "cell_type": "code",
   "execution_count": 22,
   "metadata": {},
   "outputs": [],
   "source": [
    "# Try out next page\n",
    "button = driver.find_element(By.XPATH, '/html/body/div[4]/form/div[2]/ul[2]/li[1]/a')\n",
    "button.click()\n",
    "# Yeah!!!"
   ]
  },
  {
   "cell_type": "code",
   "execution_count": 27,
   "metadata": {},
   "outputs": [],
   "source": [
    "# Try out search field\n",
    "search_field = driver.find_element(By.XPATH, '//*[@id=\"q\"]')\n",
    "search_field.clear()\n",
    "search_field.send_keys('black')\n",
    "search_button = driver.find_element(By.XPATH, '/html/body/div[4]/form/div[1]/fieldset/input[2]')\n",
    "search_button.click()"
   ]
  },
  {
   "cell_type": "code",
   "execution_count": null,
   "metadata": {},
   "outputs": [],
   "source": [
    "# Next, try scraping some text & image data!\n",
    "\n",
    "\n"
   ]
  }
 ],
 "metadata": {
  "kernelspec": {
   "display_name": "Python 3.10.4 ('DataEngineer')",
   "language": "python",
   "name": "python3"
  },
  "language_info": {
   "codemirror_mode": {
    "name": "ipython",
    "version": 3
   },
   "file_extension": ".py",
   "mimetype": "text/x-python",
   "name": "python",
   "nbconvert_exporter": "python",
   "pygments_lexer": "ipython3",
   "version": "3.10.4"
  },
  "orig_nbformat": 4,
  "vscode": {
   "interpreter": {
    "hash": "425f2bfff695a8b7aa1d68f0ede275b0f41d14e016a0ffd1515e99b4869eb5a8"
   }
  }
 },
 "nbformat": 4,
 "nbformat_minor": 2
}
