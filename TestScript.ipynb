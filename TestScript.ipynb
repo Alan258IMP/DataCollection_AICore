{
 "cells": [
  {
   "cell_type": "code",
   "execution_count": 3,
   "metadata": {},
   "outputs": [
    {
     "data": {
      "text/plain": [
       "'\\ndef click_element(xpath: str):\\n    try:\\n        button = self.driver.find_element(By.XPATH, xpath)\\n        button.click()\\n    except TimeoutException:\\n        print(\"TimeoutException: Button not found\")\\n'"
      ]
     },
     "execution_count": 3,
     "metadata": {},
     "output_type": "execute_result"
    }
   ],
   "source": [
    "#Import everything\n",
    "from http import cookies\n",
    "import selenium\n",
    "from selenium import webdriver\n",
    "from selenium.common.exceptions import TimeoutException\n",
    "from selenium.webdriver.support.ui import WebDriverWait\n",
    "from selenium.webdriver.common.by import By\n",
    "import time\n",
    "import json\n",
    "import urllib\n",
    "import requests\n",
    "import os\n",
    "'''\n",
    "def click_element(xpath: str):\n",
    "    try:\n",
    "        button = self.driver.find_element(By.XPATH, xpath)\n",
    "        button.click()\n",
    "    except TimeoutException:\n",
    "        print(\"TimeoutException: Button not found\")\n",
    "'''"
   ]
  },
  {
   "cell_type": "code",
   "execution_count": 4,
   "metadata": {},
   "outputs": [],
   "source": [
    "# Open the website\n",
    "driver = webdriver.Chrome()\n",
    "driver.get('https://vndb.org/v')"
   ]
  },
  {
   "cell_type": "code",
   "execution_count": 5,
   "metadata": {},
   "outputs": [],
   "source": [
    "# Try out next page\n",
    "button = driver.find_element(By.XPATH, '/html/body/div[4]/form/div[2]/ul[2]/li[1]/a')\n",
    "button.click()\n",
    "# Yeah!!!"
   ]
  },
  {
   "cell_type": "code",
   "execution_count": 9,
   "metadata": {},
   "outputs": [],
   "source": [
    "# Try out search field\n",
    "search_field = driver.find_element(By.XPATH, '//*[@id=\"q\"]')\n",
    "search_field.clear()\n",
    "search_field.send_keys('grey')\n",
    "search_button = driver.find_element(By.XPATH, '//*[@value=\"Search!\"]')\n",
    "search_button.click()"
   ]
  },
  {
   "cell_type": "code",
   "execution_count": null,
   "metadata": {},
   "outputs": [],
   "source": [
    "# Get the first result in the search field\n",
    "result_1 = driver.find_elements(By.XPATH, '/html/body/div[4]/form/div[3]/table/tbody/tr[3]/td[2]/img')\n",
    "#print(result_1[3].get_attribute('title'))\n",
    "table = driver.find_element(By.XPATH, '/html/body/div[4]/form/div[3]/table/tbody')\n",
    "rows = table.find_elements(By.XPATH, './tr')\n",
    "#print(rows[0].text)\n",
    "row_1_elements = rows[0].find_elements(By.XPATH, './td')\n",
    "print(row_1_elements[0].text)\n",
    "print(row_1_elements[5].text.split()[1][1:-1])\n",
    "# I find the columns to be:\n",
    "# 1: Title of game\n",
    "# 2: Platforms available (in images, need to be dealt with separately)\n",
    "# 3: Languages available (in images, need to be dealt with separately)\n",
    "# 4: Release date\n",
    "# 5: Popularity index\n",
    "# 6: Rating out of 10 (No. of users rated on VNDB)\n",
    "platforms = row_1_elements[1].find_elements(By.XPATH, './img')\n",
    "languages = row_1_elements[2].find_elements(By.XPATH, './abbr')\n",
    "for platform in platforms:\n",
    "    print(platform.get_attribute('title'))\n",
    "for language in languages:\n",
    "    print(language.get_attribute('title'))\n",
    "# Get url to description page\n",
    "description_page_url = row_1_elements[0].find_element(By.XPATH, './a').get_attribute('href')\n",
    "print(description_page_url)"
   ]
  },
  {
   "cell_type": "code",
   "execution_count": null,
   "metadata": {},
   "outputs": [],
   "source": [
    "# Now get all useful information from the table and store 'em in a dictionary\n",
    "table = driver.find_element(By.XPATH, '/html/body/div[4]/form/div[3]/table/tbody')\n",
    "rows = table.find_elements(By.XPATH, './tr')\n",
    "table_data = [] # going to be a list of dictionaries\n",
    "for row in rows[:5]:\n",
    "    row_elements = row.find_elements(By.XPATH, './td')\n",
    "    title = row_elements[0].text\n",
    "    release_date = row_elements[3].text\n",
    "    popularity = row_elements[4].text\n",
    "    rating = row_elements[5].text.split()[0]\n",
    "    no_of_voters = int(row_elements[5].text.split()[1][1:-1]) # need to take away brackets\n",
    "\n",
    "    # Platforms and languages are displayed in images, need to be dealt with separately\n",
    "    platforms = []\n",
    "    languages = []\n",
    "    platforms_img = row_elements[1].find_elements(By.XPATH, './img')\n",
    "    languages_img = row_elements[2].find_elements(By.XPATH, './abbr')\n",
    "    for platform in platforms_img:\n",
    "        platforms.append(platform.get_attribute('title'))\n",
    "    platforms = \", \".join(platforms)\n",
    "    for language in languages_img:\n",
    "        languages.append(language.get_attribute('title'))\n",
    "    languages = \", \".join(languages)\n",
    "    # Get description page link\n",
    "    description_page_url = row_elements[0].find_element(By.XPATH, './a').get_attribute('href')\n",
    "\n",
    "    row_data_dict = {\"URL\": description_page_url,\n",
    "                     \"Title\": title,\n",
    "                     \"Platform_available\": platforms,\n",
    "                     \"Language_available\": languages,\n",
    "                     \"Release_date\": release_date,\n",
    "                     \"Popularity\": popularity,\n",
    "                     \"Rating\": rating,\n",
    "                     \"No_of_voters\": no_of_voters}\n",
    "    table_data.append(row_data_dict)\n",
    "print(table_data[3])\n",
    "\n",
    " \n",
    "    "
   ]
  },
  {
   "cell_type": "code",
   "execution_count": null,
   "metadata": {},
   "outputs": [],
   "source": [
    "# Now we get the data, we store them in pd dataframe and export\n",
    "import pandas as pd\n",
    "dataframe = pd.DataFrame(table_data)\n",
    "dataframe.to_json('raw_data/data.json')\n",
    "print(dataframe)"
   ]
  },
  {
   "cell_type": "code",
   "execution_count": null,
   "metadata": {},
   "outputs": [],
   "source": [
    "# Download an image\n",
    "import ssl\n",
    "import datetime\n",
    "ssl._create_default_https_context = ssl._create_unverified_context\n",
    "driver.get(table_data[3]['URL'])\n",
    "img_holder = driver.find_element(By.XPATH, '//*[@class=\"imghover--visible\"]')\n",
    "image = img_holder.find_element(By.XPATH, './img')\n",
    "url = image.get_attribute('src')\n",
    "print(url)\n",
    "datetime_now = datetime.datetime.now().strftime(\"%Y%m%d_%H%M%S\")\n",
    "image_id = url[23:].replace('/','') # trims https://s2.vndb.org/cv/\n",
    "filepath = f'raw_data/images/{datetime_now}_{image_id}'\n",
    "print(filepath)\n",
    "print(image_id)\n",
    "urllib.request.urlretrieve(url, filepath)\n",
    "print(url[23:].replace('/',''))\n",
    "\n"
   ]
  },
  {
   "cell_type": "code",
   "execution_count": 16,
   "metadata": {},
   "outputs": [],
   "source": [
    "search_field = driver.find_element(By.XPATH, '//*[@id=\"q\"]')\n",
    "search_field.clear()\n",
    "search_field.send_keys('black')\n",
    "search_button = driver.find_element(By.XPATH, '//*[@value=\"Search!\"]')\n",
    "search_button.click()"
   ]
  },
  {
   "cell_type": "code",
   "execution_count": 19,
   "metadata": {},
   "outputs": [
    {
     "data": {
      "text/plain": [
       "'black'"
      ]
     },
     "execution_count": 19,
     "metadata": {},
     "output_type": "execute_result"
    }
   ],
   "source": [
    "driver.find_element(By.XPATH, '//*[@id=\"q\"]').get_attribute('value')"
   ]
  }
 ],
 "metadata": {
  "kernelspec": {
   "display_name": "Python 3.10.4 ('DataEngineer')",
   "language": "python",
   "name": "python3"
  },
  "language_info": {
   "codemirror_mode": {
    "name": "ipython",
    "version": 3
   },
   "file_extension": ".py",
   "mimetype": "text/x-python",
   "name": "python",
   "nbconvert_exporter": "python",
   "pygments_lexer": "ipython3",
   "version": "3.10.4"
  },
  "orig_nbformat": 4,
  "vscode": {
   "interpreter": {
    "hash": "425f2bfff695a8b7aa1d68f0ede275b0f41d14e016a0ffd1515e99b4869eb5a8"
   }
  }
 },
 "nbformat": 4,
 "nbformat_minor": 2
}
