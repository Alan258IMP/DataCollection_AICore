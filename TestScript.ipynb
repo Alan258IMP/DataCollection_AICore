{
 "cells": [
  {
   "cell_type": "code",
   "execution_count": null,
   "metadata": {},
   "outputs": [],
   "source": [
    "#Import everything\n",
    "from http import cookies\n",
    "import selenium\n",
    "from selenium import webdriver\n",
    "from selenium.common.exceptions import TimeoutException\n",
    "from selenium.webdriver.support.ui import WebDriverWait\n",
    "from selenium.webdriver.common.by import By\n",
    "import time\n",
    "import json\n",
    "import urllib\n",
    "import requests\n",
    "import os\n",
    "'''\n",
    "def click_element(xpath: str):\n",
    "    try:\n",
    "        button = self.driver.find_element(By.XPATH, xpath)\n",
    "        button.click()\n",
    "    except TimeoutException:\n",
    "        print(\"TimeoutException: Button not found\")\n",
    "'''"
   ]
  },
  {
   "cell_type": "code",
   "execution_count": null,
   "metadata": {},
   "outputs": [],
   "source": [
    "# Open the website\n",
    "driver = webdriver.Chrome()\n",
    "driver.get('https://vndb.org/v')"
   ]
  },
  {
   "cell_type": "code",
   "execution_count": null,
   "metadata": {},
   "outputs": [],
   "source": [
    "# Try out next page\n",
    "nav_bar = driver.find_element(By.XPATH, '//*[@class=\"maintabs browsetabs \"]')\n",
    "button = nav_bar.find_element(By.XPATH, './ul[2]/li[1]/a')\n",
    "button.click()\n",
    "# Yeah!!!"
   ]
  },
  {
   "cell_type": "code",
   "execution_count": null,
   "metadata": {},
   "outputs": [],
   "source": [
    "# Try out search field\n",
    "search_field = driver.find_element(By.XPATH, '//*[@id=\"q\"]')\n",
    "search_field.clear()\n",
    "search_field.send_keys('yellow')\n",
    "search_button = driver.find_element(By.XPATH, '//*[@value=\"Search!\"]')\n",
    "search_button.click()"
   ]
  },
  {
   "cell_type": "code",
   "execution_count": null,
   "metadata": {},
   "outputs": [],
   "source": [
    "# Get the first result in the search field\n",
    "result_1 = driver.find_elements(By.XPATH, '/html/body/div[4]/form/div[3]/table/tbody/tr[3]/td[2]/img')\n",
    "#print(result_1[3].get_attribute('title'))\n",
    "table = driver.find_element(By.XPATH, '/html/body/div[4]/form/div[3]/table/tbody')\n",
    "rows = table.find_elements(By.XPATH, './tr')\n",
    "#print(rows[0].text)\n",
    "row_1_elements = rows[0].find_elements(By.XPATH, './td')\n",
    "print(row_1_elements[0].text)\n",
    "print(row_1_elements[5].text.split()[1][1:-1])\n",
    "# I find the columns to be:\n",
    "# 1: Title of game\n",
    "# 2: Platforms available (in images, need to be dealt with separately)\n",
    "# 3: Languages available (in images, need to be dealt with separately)\n",
    "# 4: Release date\n",
    "# 5: Popularity index\n",
    "# 6: Rating out of 10 (No. of users rated on VNDB)\n",
    "platforms = row_1_elements[1].find_elements(By.XPATH, './img')\n",
    "languages = row_1_elements[2].find_elements(By.XPATH, './abbr')\n",
    "for platform in platforms:\n",
    "    print(platform.get_attribute('title'))\n",
    "for language in languages:\n",
    "    print(language.get_attribute('title'))\n",
    "# Get url to description page\n",
    "description_page_url = row_1_elements[0].find_element(By.XPATH, './a').get_attribute('href')\n",
    "print(description_page_url)"
   ]
  },
  {
   "cell_type": "code",
   "execution_count": null,
   "metadata": {},
   "outputs": [],
   "source": [
    "# Now get all useful information from the table and store 'em in a dictionary\n",
    "table = driver.find_element(By.XPATH, '/html/body/div[4]/form/div[3]/table/tbody')\n",
    "rows = table.find_elements(By.XPATH, './tr')\n",
    "table_data = [] # going to be a list of dictionaries\n",
    "for row in rows[:5]:\n",
    "    row_elements = row.find_elements(By.XPATH, './td')\n",
    "    title = row_elements[0].text\n",
    "    release_date = row_elements[3].text\n",
    "    popularity = row_elements[4].text\n",
    "    rating = row_elements[5].text.split()[0]\n",
    "    no_of_voters = int(row_elements[5].text.split()[1][1:-1]) # need to take away brackets\n",
    "\n",
    "    # Platforms and languages are displayed in images, need to be dealt with separately\n",
    "    platforms = []\n",
    "    languages = []\n",
    "    platforms_img = row_elements[1].find_elements(By.XPATH, './img')\n",
    "    languages_img = row_elements[2].find_elements(By.XPATH, './abbr')\n",
    "    for platform in platforms_img:\n",
    "        platforms.append(platform.get_attribute('title'))\n",
    "    platforms = \", \".join(platforms)\n",
    "    for language in languages_img:\n",
    "        languages.append(language.get_attribute('title'))\n",
    "    languages = \", \".join(languages)\n",
    "    # Get description page link\n",
    "    description_page_url = row_elements[0].find_element(By.XPATH, './a').get_attribute('href')\n",
    "\n",
    "    row_data_dict = {\"URL\": description_page_url,\n",
    "                     \"Title\": title,\n",
    "                     \"Platform_available\": platforms,\n",
    "                     \"Language_available\": languages,\n",
    "                     \"Release_date\": release_date,\n",
    "                     \"Popularity\": popularity,\n",
    "                     \"Rating\": rating,\n",
    "                     \"No_of_voters\": no_of_voters}\n",
    "    table_data.append(row_data_dict)\n",
    "print(table_data[3])\n",
    "\n",
    " \n",
    "    "
   ]
  },
  {
   "cell_type": "code",
   "execution_count": null,
   "metadata": {},
   "outputs": [],
   "source": [
    "# Now we get the data, we store them in pd dataframe and export\n",
    "import pandas as pd\n",
    "dataframe = pd.DataFrame(table_data)\n",
    "dataframe.to_json('raw_data/data.json')\n",
    "print(dataframe)"
   ]
  },
  {
   "cell_type": "code",
   "execution_count": null,
   "metadata": {},
   "outputs": [],
   "source": [
    "# Download an image\n",
    "import ssl\n",
    "import datetime\n",
    "ssl._create_default_https_context = ssl._create_unverified_context\n",
    "driver.get(table_data[3]['URL'])\n",
    "img_holder = driver.find_element(By.XPATH, '//*[@class=\"imghover--visible\"]')\n",
    "image = img_holder.find_element(By.XPATH, './img')\n",
    "url = image.get_attribute('src')\n",
    "print(url)\n",
    "datetime_now = datetime.datetime.now().strftime(\"%Y%m%d_%H%M%S\")\n",
    "image_id = url[23:].replace('/','') # trims https://s2.vndb.org/cv/\n",
    "filepath = f'raw_data/images/{datetime_now}_{image_id}'\n",
    "print(filepath)\n",
    "print(image_id)\n",
    "urllib.request.urlretrieve(url, filepath)\n",
    "print(url[23:].replace('/',''))\n",
    "\n"
   ]
  },
  {
   "cell_type": "code",
   "execution_count": null,
   "metadata": {},
   "outputs": [],
   "source": [
    "search_field = driver.find_element(By.XPATH, '//*[@id=\"q\"]')\n",
    "search_field.clear()\n",
    "search_field.send_keys('black')\n",
    "search_button = driver.find_element(By.XPATH, '//*[@value=\"Search!\"]')\n",
    "search_button.click()"
   ]
  },
  {
   "cell_type": "code",
   "execution_count": 3,
   "metadata": {},
   "outputs": [
    {
     "ename": "ModuleNotFoundError",
     "evalue": "No module named 'selenium'",
     "output_type": "error",
     "traceback": [
      "\u001b[1;31m---------------------------------------------------------------------------\u001b[0m",
      "\u001b[1;31mModuleNotFoundError\u001b[0m                       Traceback (most recent call last)",
      "\u001b[1;32m~\\AppData\\Local\\Temp/ipykernel_7032/1698891545.py\u001b[0m in \u001b[0;36m<module>\u001b[1;34m\u001b[0m\n\u001b[1;32m----> 1\u001b[1;33m \u001b[1;32mimport\u001b[0m \u001b[0mselenium\u001b[0m\u001b[1;33m\u001b[0m\u001b[1;33m\u001b[0m\u001b[0m\n\u001b[0m",
      "\u001b[1;31mModuleNotFoundError\u001b[0m: No module named 'selenium'"
     ]
    }
   ],
   "source": [
    "import selenium"
   ]
  }
 ],
 "metadata": {
  "kernelspec": {
   "display_name": "Python 3.9.7 ('base')",
   "language": "python",
   "name": "python3"
  },
  "language_info": {
   "codemirror_mode": {
    "name": "ipython",
    "version": 3
   },
   "file_extension": ".py",
   "mimetype": "text/x-python",
   "name": "python",
   "nbconvert_exporter": "python",
   "pygments_lexer": "ipython3",
   "version": "3.9.7"
  },
  "orig_nbformat": 4,
  "vscode": {
   "interpreter": {
    "hash": "603739f63c781e3a69b76ab5e6b660be2a435eb63179b728abe02b9ca419c493"
   }
  }
 },
 "nbformat": 4,
 "nbformat_minor": 2
}
