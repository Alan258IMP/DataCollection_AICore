{
 "cells": [
  {
   "cell_type": "code",
   "execution_count": 1,
   "metadata": {},
   "outputs": [
    {
     "data": {
      "text/plain": [
       "'\\ndef click_element(xpath: str):\\n    try:\\n        button = self.driver.find_element(By.XPATH, xpath)\\n        button.click()\\n    except TimeoutException:\\n        print(\"TimeoutException: Button not found\")\\n'"
      ]
     },
     "execution_count": 1,
     "metadata": {},
     "output_type": "execute_result"
    }
   ],
   "source": [
    "#Import everything\n",
    "from http import cookies\n",
    "import selenium\n",
    "from selenium import webdriver\n",
    "from selenium.common.exceptions import TimeoutException\n",
    "from selenium.webdriver.support.ui import WebDriverWait\n",
    "from selenium.webdriver.common.by import By\n",
    "import time\n",
    "import json\n",
    "import urllib\n",
    "import requests\n",
    "import os\n",
    "'''\n",
    "def click_element(xpath: str):\n",
    "    try:\n",
    "        button = self.driver.find_element(By.XPATH, xpath)\n",
    "        button.click()\n",
    "    except TimeoutException:\n",
    "        print(\"TimeoutException: Button not found\")\n",
    "'''"
   ]
  },
  {
   "cell_type": "code",
   "execution_count": 2,
   "metadata": {},
   "outputs": [],
   "source": [
    "# Open the website\n",
    "driver = webdriver.Chrome()\n",
    "driver.get('https://vndb.org/v')"
   ]
  },
  {
   "cell_type": "code",
   "execution_count": 3,
   "metadata": {},
   "outputs": [],
   "source": [
    "# Try out next page\n",
    "button = driver.find_element(By.XPATH, '/html/body/div[4]/form/div[2]/ul[2]/li[1]/a')\n",
    "button.click()\n",
    "# Yeah!!!"
   ]
  },
  {
   "cell_type": "code",
   "execution_count": 6,
   "metadata": {},
   "outputs": [],
   "source": [
    "# Try out search field\n",
    "search_field = driver.find_element(By.XPATH, '//*[@id=\"q\"]')\n",
    "search_field.clear()\n",
    "search_field.send_keys('black')\n",
    "search_button = driver.find_element(By.XPATH, '/html/body/div[4]/form/div[1]/fieldset/input[2]')\n",
    "search_button.click()"
   ]
  },
  {
   "cell_type": "code",
   "execution_count": 7,
   "metadata": {},
   "outputs": [
    {
     "name": "stdout",
     "output_type": "stream",
     "text": [
      "Akuma Shitsuji to Kuroi Neko\n",
      "2\n",
      "Android\n",
      "Apple iProduct\n",
      "Japanese\n",
      "https://vndb.org/v33910\n"
     ]
    }
   ],
   "source": [
    "# Get the first result in the search field\n",
    "result_1 = driver.find_elements(By.XPATH, '/html/body/div[4]/form/div[3]/table/tbody/tr[3]/td[2]/img')\n",
    "#print(result_1[3].get_attribute('title'))\n",
    "table = driver.find_element(By.XPATH, '/html/body/div[4]/form/div[3]/table/tbody')\n",
    "rows = table.find_elements(By.XPATH, './tr')\n",
    "#print(rows[0].text)\n",
    "row_1_elements = rows[0].find_elements(By.XPATH, './td')\n",
    "print(row_1_elements[0].text)\n",
    "print(row_1_elements[5].text.split()[1][1:-1])\n",
    "# I find the columns to be:\n",
    "# 1: Title of game\n",
    "# 2: Platforms available (in images, need to be dealt with separately)\n",
    "# 3: Languages available (in images, need to be dealt with separately)\n",
    "# 4: Release date\n",
    "# 5: Popularity index\n",
    "# 6: Rating out of 10 (No. of users rated on VNDB)\n",
    "platforms = row_1_elements[1].find_elements(By.XPATH, './img')\n",
    "languages = row_1_elements[2].find_elements(By.XPATH, './abbr')\n",
    "for platform in platforms:\n",
    "    print(platform.get_attribute('title'))\n",
    "for language in languages:\n",
    "    print(language.get_attribute('title'))\n",
    "# Get url to description page\n",
    "description_page_url = row_1_elements[0].find_element(By.XPATH, './a').get_attribute('href')\n",
    "print(description_page_url)"
   ]
  },
  {
   "cell_type": "code",
   "execution_count": 12,
   "metadata": {},
   "outputs": [
    {
     "name": "stdout",
     "output_type": "stream",
     "text": [
      "{'URL': 'https://vndb.org/v33809', 'Title': 'a love colored blackbird', 'Platform_available': 'Linux, Mac OS, Windows', 'Language_available': 'English', 'Release_date': '2022-02-01', 'Popularity': '0.00', 'Rating': '0.00', 'No_of_voters': 0}\n"
     ]
    }
   ],
   "source": [
    "# Now get all useful information from the table and store 'em in a dictionary\n",
    "table = driver.find_element(By.XPATH, '/html/body/div[4]/form/div[3]/table/tbody')\n",
    "rows = table.find_elements(By.XPATH, './tr')\n",
    "table_data = [] # going to be a list of dictionaries\n",
    "for row in rows[:5]:\n",
    "    row_elements = row.find_elements(By.XPATH, './td')\n",
    "    title = row_elements[0].text\n",
    "    release_date = row_elements[3].text\n",
    "    popularity = row_elements[4].text\n",
    "    rating = row_elements[5].text.split()[0]\n",
    "    no_of_voters = int(row_elements[5].text.split()[1][1:-1]) # need to take away brackets\n",
    "\n",
    "    # Platforms and languages are displayed in images, need to be dealt with separately\n",
    "    platforms = []\n",
    "    languages = []\n",
    "    platforms_img = row_elements[1].find_elements(By.XPATH, './img')\n",
    "    languages_img = row_elements[2].find_elements(By.XPATH, './abbr')\n",
    "    for platform in platforms_img:\n",
    "        platforms.append(platform.get_attribute('title'))\n",
    "    platforms = \", \".join(platforms)\n",
    "    for language in languages_img:\n",
    "        languages.append(language.get_attribute('title'))\n",
    "    languages = \", \".join(languages)\n",
    "    # Get description page link\n",
    "    description_page_url = row_elements[0].find_element(By.XPATH, './a').get_attribute('href')\n",
    "\n",
    "    row_data_dict = {\"URL\": description_page_url,\n",
    "                     \"Title\": title,\n",
    "                     \"Platform_available\": platforms,\n",
    "                     \"Language_available\": languages,\n",
    "                     \"Release_date\": release_date,\n",
    "                     \"Popularity\": popularity,\n",
    "                     \"Rating\": rating,\n",
    "                     \"No_of_voters\": no_of_voters}\n",
    "    table_data.append(row_data_dict)\n",
    "print(table_data[3])\n",
    "\n",
    " \n",
    "    "
   ]
  },
  {
   "cell_type": "code",
   "execution_count": 30,
   "metadata": {},
   "outputs": [
    {
     "name": "stdout",
     "output_type": "stream",
     "text": [
      "                       URL                                     Title  \\\n",
      "0  https://vndb.org/v33910              Akuma Shitsuji to Kuroi Neko   \n",
      "1  https://vndb.org/v25691               ALLBLACK Phase #1 -Project-   \n",
      "2  https://vndb.org/v30910                ALLBLACK -Phase#2:Promise-   \n",
      "3  https://vndb.org/v33809                  a love colored blackbird   \n",
      "4    https://vndb.org/v995  Altered Pink ~Tokumu Sentai Duel Ranger~   \n",
      "\n",
      "                         Platform_available  \\\n",
      "0                   Android, Apple iProduct   \n",
      "1  Android, Linux, Mac OS, Website, Windows   \n",
      "2                    Linux, Mac OS, Windows   \n",
      "3                    Linux, Mac OS, Windows   \n",
      "4                       DVD Player, Windows   \n",
      "\n",
      "                    Language_available Release_date Popularity Rating  \\\n",
      "0                             Japanese   2021-12-07       0.02   6.26   \n",
      "1  Russian, Japanese, Spanish, English   2019-04-21       0.11   6.20   \n",
      "2                              English   2021-04-02       0.00   0.00   \n",
      "3                              English   2022-02-01       0.00   0.00   \n",
      "4                             Japanese   2008-08-15       0.20   6.15   \n",
      "\n",
      "   No_of_voters  \n",
      "0             2  \n",
      "1             6  \n",
      "2             0  \n",
      "3             0  \n",
      "4            12  \n"
     ]
    }
   ],
   "source": [
    "# Now we get the data, we store them\n",
    "import pandas as pd\n",
    "dataframe = pd.DataFrame(table_data)\n",
    "dataframe.to_json('data.json')\n",
    "print(dataframe)"
   ]
  },
  {
   "cell_type": "code",
   "execution_count": 29,
   "metadata": {},
   "outputs": [
    {
     "name": "stdout",
     "output_type": "stream",
     "text": [
      "Element not found!\n"
     ]
    }
   ],
   "source": [
    "# Error handling\n",
    "from selenium.common.exceptions import TimeoutException, NoSuchElementException\n",
    "try:\n",
    "    button = driver.find_element(By.XPATH, '/html/body/div[4]/form/div[2]/ul[2]/li[1]/a')\n",
    "    button.click()\n",
    "except NoSuchElementException:\n",
    "    print(\"Element not found!\")"
   ]
  }
 ],
 "metadata": {
  "kernelspec": {
   "display_name": "Python 3.10.4 ('DataEngineer')",
   "language": "python",
   "name": "python3"
  },
  "language_info": {
   "codemirror_mode": {
    "name": "ipython",
    "version": 3
   },
   "file_extension": ".py",
   "mimetype": "text/x-python",
   "name": "python",
   "nbconvert_exporter": "python",
   "pygments_lexer": "ipython3",
   "version": "3.10.4"
  },
  "orig_nbformat": 4,
  "vscode": {
   "interpreter": {
    "hash": "425f2bfff695a8b7aa1d68f0ede275b0f41d14e016a0ffd1515e99b4869eb5a8"
   }
  }
 },
 "nbformat": 4,
 "nbformat_minor": 2
}
